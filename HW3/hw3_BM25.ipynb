{
  "cells": [
    {
      "cell_type": "markdown",
      "metadata": {
        "id": "Mj-RRmH5zEHC"
      },
      "source": [
        "# ДЗ 3 \n",
        "## Реализация BM25"
      ]
    },
    {
      "cell_type": "markdown",
      "metadata": {
        "id": "OExAxWc1zEHH"
      },
      "source": [
        "## Функция ранжирования BM25"
      ]
    },
    {
      "cell_type": "markdown",
      "metadata": {
        "id": "yMUvekVhzEHI"
      },
      "source": [
        "Для обратного индекса есть общепринятая формула для ранжирования *Okapi best match 25* ([Okapi BM25](https://ru.wikipedia.org/wiki/Okapi_BM25)).    \n",
        "Пусть дан запрос $Query$, содержащий слова  $q_1, ... , q_n$, тогда функция BM25 даёт следующую оценку релевантности документа $Doc$ запросу $Query$:\n",
        "\n",
        "$$ BM25(Query, Doc) = \\sum_{i}^{n} \\text{IDF}(q_i)*\\frac{TF(q_i,Doc)*(k+1)}{TF(q_i,Doc)+k(1-b+b\\frac{l(d)}{avgdl})} $$ \n",
        "где    \n",
        "$$$$\n",
        "$\\text{IDF}(q_i)$: \n",
        "$$\\text{IDF}(q_i) = \\log\\frac{N-n(q_i)+0.5}{n(q_i)+0.5},$$\n",
        ">> где $N$ - общее количество документов в корпусе   \n",
        "$n(q_i)$ — количество документов, содержащих слово $q_i$\n",
        "\n",
        ">$TF(q_i,Doc)$ - частота слова $q_i$ в документе $Doc$    \n",
        "$k$ и $b$ — свободные коэффициенты, обычно их выбирают как $k$=2.0 и $b$=0.75  \n",
        "$l(d)$ - длина документа (количество слов в нём)   \n",
        "$avgdl$ — средняя длина документа в корпусе    "
      ]
    },
    {
      "cell_type": "markdown",
      "metadata": {
        "id": "jlZV395RzEHK"
      },
      "source": [
        "### __Задача__:\n",
        "\n",
        "Реализуйте поиск, где\n",
        "- в качестве векторизации документов корпуса - слагаемые **BM25**\n",
        "- формат хранения индекса - **матрица Document-Term**\n",
        "- метрика близости пар (запрос, документ) - **BM25**\n",
        "\n",
        "В реализации должно быть все то же, что во втором дз:\n",
        "- функция индексации корпуса, на выходе которой посчитанная матрица Document-Term\n",
        "- функция индексации запроса, на выходе которой посчитанный вектор запроса\n",
        "- функция с реализацией подсчета близости запроса и документов корпуса, на выходе которой вектор, i-й элемент которого обозначает близость запроса с i-м документом корпуса. Сделать **обязательно векторно**.\n",
        "- главная функция, объединяющая все это вместе; на входе - запрос, на выходе - отсортированные по убыванию имена документов коллекции\n",
        "\n",
        "Обратите внимание:\n",
        "- сортировку надо сделать **<font color='green'>обязательно векторно</font>** через маску **(ниже дан пример)**; при несоблюдении минус два балла\n",
        "- подсчет индекса надо сделать **<font color='green'>обязательно с использованием спарс-матриц</font>**, то есть ни в какой момент времени векторизованный корпус не переводится в ndarray; при несоблюдении минус балл\n",
        "\n",
        "\n",
        "В качестве корпуса возьмите корпус вопросов и ответов с Ответы Мейл) 👍😃 \n",
        "[Ссылка для скачивания](https://www.kaggle.com/bobazooba/thousands-of-questions-about-love)\n",
        "\n",
        "Описание структуры данных можно посмотреть по ссылке. В качестве документов корпуса берем значения из ключа *answers*, но не все, а один, у которого максимальный *value*. При этом ограничиваем количество документов до 50000. Пример ниже.\n",
        "\n",
        "\n",
        "**На что направлена эта задача:** \n",
        "Реализация поисковика с использованием BM25.\n",
        "\n"
      ]
    },
    {
      "cell_type": "code",
      "execution_count": null,
      "metadata": {
        "id": "ZMytamDmzEHL",
        "outputId": "cd058fda-8556-480d-d95c-98de0b3c29d6"
      },
      "outputs": [
        {
          "data": {
            "text/plain": [
              "{'question': 'Кто что должен сделать!? Для завоевания доверия женщины у мужчины и мужчины у женщины, для прочных отношений!',\n",
              " 'comment': '',\n",
              " 'sub_category': 'relations',\n",
              " 'author': 'Diesel',\n",
              " 'author_rating': {'category': 'Мыслитель', 'value': '5175'},\n",
              " 'answers': [{'text': 'это подозрительно когда настойчиво навязывают чувство доверия',\n",
              "   'author_rating': {'category': 'Знаток', 'value': '312'}},\n",
              "  {'text': 'Пересказ информации вайшнавов. Доверие складывается из 2 штук. 1. Доброта - пилот добрый, но не умеет водить самолет - лететь страшно, доверия нет. 2. Профессионализм - зирург отличный, но садист, отрежет лишнее - нет доверия.Итак, учитывайте потребности человека, повышайте айкью, чтоб по внешнему виду определять че человеку надо, не плюйте на его состояние (не просите больного гриппом идти для вас в аптеку за презиками), покажите, что вы никогда не будете его насиловать - в случае если вас что-то не устроит просто уйдете. Говорите правду. Желательно не косячить - такую правду говорить тяжело. Отвечайте за свои слова и действия. Например, если Вы потеряли одолженную книгу, верните, найдите способ любой, хоть из-под земли, закажите ее в америке.',\n",
              "   'author_rating': {'category': 'Гуру', 'value': '3897'}}],\n",
              " 'poll': []}"
            ]
          },
          "execution_count": 31,
          "metadata": {},
          "output_type": "execute_result"
        }
      ],
      "source": [
        "# # датасет для индексирования\n",
        "\n",
        "import json\n",
        "\n",
        "with open('questions_about_love.jsonl', 'r') as f:\n",
        "    corpus = list(f)[:50000]\n",
        "\n",
        "# пример элемента оригинального датасета \n",
        "json.loads(corpus[22])"
      ]
    },
    {
      "cell_type": "code",
      "execution_count": null,
      "metadata": {
        "id": "QpKfl-f1zEHN",
        "outputId": "f0ab7f53-acf4-45a9-91cb-5c3fa26662fa"
      },
      "outputs": [
        {
          "data": {
            "text/plain": [
              "array(['name_6', 'name_5', 'name_4', 'name_2', 'name_1', 'name_3'],\n",
              "      dtype='<U6')"
            ]
          },
          "execution_count": 2,
          "metadata": {},
          "output_type": "execute_result"
        }
      ],
      "source": [
        "# пример векторной сортировки\n",
        "\n",
        "import numpy as np\n",
        "from sklearn.feature_extraction.text import TfidfVectorizer\n",
        "from sklearn.metrics.pairwise import cosine_similarity\n",
        "\n",
        "\n",
        "corpus = [\n",
        "    'мыла',\n",
        "    'раму',\n",
        "    'киса',\n",
        "    'мама мыла раму',\n",
        "    'мама мыла раму',\n",
        "    'мама мыла раму'\n",
        "]\n",
        "corpus_doc_names = np.array(['name_1', 'name_2', 'name_3', 'name_4', 'name_5', 'name_6'])\n",
        "query = 'мама мыла раму'\n",
        "\n",
        "\n",
        "vectorizer = TfidfVectorizer()\n",
        "corpus_matrix = vectorizer.fit_transform(corpus)\n",
        "query_vec = vectorizer.transform([query]).toarray()\n",
        "\n",
        "# считаем косинусную близость\n",
        "scores = cosine_similarity(corpus_matrix, query_vec)\n",
        "\n",
        "# сортируем индексы скоров в обратном порядке (по убыванию)\n",
        "sorted_scores_indx = np.argsort(scores, axis=0)[::-1]\n",
        "\n",
        "# сортируем имена файлов в соответствии со скорами\n",
        "corpus_doc_names[sorted_scores_indx.ravel()]"
      ]
    },
    {
      "cell_type": "code",
      "execution_count": null,
      "metadata": {
        "id": "djPMQ4eOzEHO"
      },
      "outputs": [],
      "source": []
    },
    {
      "cell_type": "code",
      "execution_count": null,
      "metadata": {
        "id": "UJaRNd6WzEHP",
        "outputId": "4b8b6f6c-0690-455b-b3b5-de89387a934f"
      },
      "outputs": [
        {
          "data": {
            "text/plain": [
              "<4x5 sparse matrix of type '<class 'numpy.longlong'>'\n",
              "\twith 3 stored elements in Compressed Sparse Row format>"
            ]
          },
          "execution_count": 3,
          "metadata": {},
          "output_type": "execute_result"
        }
      ],
      "source": [
        "# подсказки про спарс-матрицу\n",
        "\n",
        "from scipy import sparse\n",
        "\n",
        "\n",
        "# итерация по ненулевым элементам спарс-матрицы\n",
        "# for i, j in zip(*sparce_matrix.nonzero()): \n",
        "#     ...\n",
        "    \n",
        "# создать спарс-матрицу из данных, где\n",
        "# values - лист из n значений, которые мы хотим положить в матрицу \n",
        "# rows - лист из n значений, где i-тое значение это индекс строки i-го элемента из values\n",
        "# cols - лист из n значений, где i-тое значение это индекс колонки i-го элемента из values\n",
        "\n",
        "values = [99, 22, 77]\n",
        "rows = [0, 2, 3]\n",
        "cols = [0, 2, 4]\n",
        "\n",
        "\n",
        "sparse.csr_matrix((values, (rows, cols)))"
      ]
    },
    {
      "cell_type": "markdown",
      "source": [
        "## Imports"
      ],
      "metadata": {
        "id": "qhQhKdrHzdt_"
      }
    },
    {
      "cell_type": "code",
      "source": [
        "! pip install pymorphy2"
      ],
      "metadata": {
        "colab": {
          "base_uri": "https://localhost:8080/"
        },
        "id": "iN43PRyNzw1L",
        "outputId": "b746ba36-6512-44af-97b5-1d63166936e7"
      },
      "execution_count": 2,
      "outputs": [
        {
          "output_type": "stream",
          "name": "stdout",
          "text": [
            "Looking in indexes: https://pypi.org/simple, https://us-python.pkg.dev/colab-wheels/public/simple/\n",
            "Collecting pymorphy2\n",
            "  Downloading pymorphy2-0.9.1-py3-none-any.whl (55 kB)\n",
            "\u001b[K     |████████████████████████████████| 55 kB 2.2 MB/s \n",
            "\u001b[?25hCollecting docopt>=0.6\n",
            "  Downloading docopt-0.6.2.tar.gz (25 kB)\n",
            "Collecting pymorphy2-dicts-ru<3.0,>=2.4\n",
            "  Downloading pymorphy2_dicts_ru-2.4.417127.4579844-py2.py3-none-any.whl (8.2 MB)\n",
            "\u001b[K     |████████████████████████████████| 8.2 MB 7.8 MB/s \n",
            "\u001b[?25hCollecting dawg-python>=0.7.1\n",
            "  Downloading DAWG_Python-0.7.2-py2.py3-none-any.whl (11 kB)\n",
            "Building wheels for collected packages: docopt\n",
            "  Building wheel for docopt (setup.py) ... \u001b[?25l\u001b[?25hdone\n",
            "  Created wheel for docopt: filename=docopt-0.6.2-py2.py3-none-any.whl size=13723 sha256=523080fa4dcf041f6aeb769f7ad774da900e61d8a512f0bef58b168f07d5ee3e\n",
            "  Stored in directory: /root/.cache/pip/wheels/72/b0/3f/1d95f96ff986c7dfffe46ce2be4062f38ebd04b506c77c81b9\n",
            "Successfully built docopt\n",
            "Installing collected packages: pymorphy2-dicts-ru, docopt, dawg-python, pymorphy2\n",
            "Successfully installed dawg-python-0.7.2 docopt-0.6.2 pymorphy2-0.9.1 pymorphy2-dicts-ru-2.4.417127.4579844\n"
          ]
        }
      ]
    },
    {
      "cell_type": "code",
      "source": [
        "from google.colab import drive\n",
        "drive.mount('/content/drive')"
      ],
      "metadata": {
        "colab": {
          "base_uri": "https://localhost:8080/"
        },
        "id": "Hbb5q2J-zlBZ",
        "outputId": "97421c1d-d326-4182-ee8e-caf69084ebbc"
      },
      "execution_count": 1,
      "outputs": [
        {
          "output_type": "stream",
          "name": "stdout",
          "text": [
            "Mounted at /content/drive\n"
          ]
        }
      ]
    },
    {
      "cell_type": "code",
      "source": [
        "import nltk\n",
        "import json\n",
        "import numpy as np\n",
        "from pymorphy2 import MorphAnalyzer\n",
        "from nltk.tokenize import WordPunctTokenizer\n",
        "from string import punctuation\n",
        "from sklearn.feature_extraction.text import TfidfVectorizer, CountVectorizer\n",
        "from nltk.corpus import stopwords\n",
        "from scipy import sparse"
      ],
      "metadata": {
        "id": "SRzqD8IqzdKp"
      },
      "execution_count": 4,
      "outputs": []
    },
    {
      "cell_type": "code",
      "source": [
        "morph = MorphAnalyzer()\n",
        "tokenizer = WordPunctTokenizer()\n",
        "nltk.download(\"stopwords\")\n",
        "stop_words = set(stopwords.words(\"russian\"))\n",
        "count_vectorizer = CountVectorizer()\n",
        "tf_vectorizer = TfidfVectorizer(use_idf=False, norm='l2')\n",
        "tfidf_vectorizer = TfidfVectorizer(use_idf=True, norm='l2')"
      ],
      "metadata": {
        "colab": {
          "base_uri": "https://localhost:8080/"
        },
        "id": "h2bLaqbWz80l",
        "outputId": "52139196-c13e-4148-a2eb-08dcc116212f"
      },
      "execution_count": 5,
      "outputs": [
        {
          "output_type": "stream",
          "name": "stderr",
          "text": [
            "[nltk_data] Downloading package stopwords to /root/nltk_data...\n",
            "[nltk_data]   Unzipping corpora/stopwords.zip.\n"
          ]
        }
      ]
    },
    {
      "cell_type": "markdown",
      "source": [
        "## Processing"
      ],
      "metadata": {
        "id": "VMQM1elS0ijN"
      }
    },
    {
      "cell_type": "markdown",
      "source": [
        "preprocess texts:"
      ],
      "metadata": {
        "id": "weEGjHiG0k1R"
      }
    },
    {
      "cell_type": "code",
      "source": [
        "def preprocess(text):\n",
        "  text = tokenizer.tokenize(text.lower())\n",
        "  lemmas = list()\n",
        "  for t in text:\n",
        "    if t not in stop_words and t not in punctuation:\n",
        "      lemmas.append(morph.parse(t)[0].normal_form)\n",
        "\n",
        "  return ' '.join(lemmas)"
      ],
      "metadata": {
        "id": "REBF5T3Rz-d7"
      },
      "execution_count": 6,
      "outputs": []
    },
    {
      "cell_type": "markdown",
      "source": [
        "gather relevant answers (those with maximum value) from corpus"
      ],
      "metadata": {
        "id": "NpwG62Y21QfR"
      }
    },
    {
      "cell_type": "code",
      "source": [
        "def get_relevant(path):\n",
        "  with open(path, 'r', encoding='utf-8') as f:\n",
        "    corpus = list(f)[:50000]\n",
        "  lemmas = list()\n",
        "  texts = list()\n",
        "  for i in corpus:\n",
        "    answers = json.loads(i)['answers']\n",
        "    if answers:\n",
        "      answer_values = np.array(map(int, [i['author_rating']['value'] for i in answers if i != '']))\n",
        "      answer = answers[np.argmax(answer_values)]['text']\n",
        "      lemmas.append(preprocess(answer))\n",
        "      texts.append(answer)\n",
        "  return lemmas, texts"
      ],
      "metadata": {
        "id": "Ztkmwt9t0nLv"
      },
      "execution_count": 7,
      "outputs": []
    },
    {
      "cell_type": "markdown",
      "source": [
        "build matrix:"
      ],
      "metadata": {
        "id": "Muq0ZTZV1dqK"
      }
    },
    {
      "cell_type": "code",
      "source": [
        "def get_indexes(corpus, k=2, b=0.75):\n",
        "  x_count = count_vectorizer.fit_transform(corpus)\n",
        "  x_idf = tfidf_vectorizer.fit_transform(corpus)\n",
        "  x_tf = tf_vectorizer.fit_transform(corpus)\n",
        "  idf = tfidf_vectorizer.idf_\n",
        "  len_d = x_count.sum(axis=1)\n",
        "  avdl = len_d.mean()\n",
        "  fin = k * (1 - b + b * len_d / avdl)\n",
        "  matrix = sparse.lil_matrix(x_tf.shape)\n",
        "\n",
        "  for i, j in zip(*x_tf.nonzero()):\n",
        "    matrix[i, j] = (x_tf[i, j] * (k + 1) * idf[j])/(x_tf[i, j] + fin[i])\n",
        "    \n",
        "  return matrix.tocsr()"
      ],
      "metadata": {
        "id": "GzxBz51T1Mn6"
      },
      "execution_count": 8,
      "outputs": []
    },
    {
      "cell_type": "code",
      "source": [
        "def find(query, corpus, answers):\n",
        "  lemmas = preprocess(query)\n",
        "  if lemmas:\n",
        "    query_index = count_vectorizer.transform([lemmas])\n",
        "    bm25 = corpus.dot(query_index.T)\n",
        "    i = np.argsort(bm25.toarray(), axis=0)\n",
        "    return np.array(answers)[i][::-1].squeeze()\n",
        "  else:\n",
        "    pass"
      ],
      "metadata": {
        "id": "7G3lmiBK1ko0"
      },
      "execution_count": 9,
      "outputs": []
    },
    {
      "cell_type": "code",
      "source": [
        "path = '/content/drive/MyDrive/infosearch22/project/data.jsonl'\n",
        "corpus, lemmas = get_relevant(path)\n",
        "matrix = get_indexes(lemmas)\n",
        "qr = input('You may type in your query or \"STOP\" if you want to stop: ')\n",
        "check = True\n",
        "while check == True:\n",
        "  qr = input('You may type in your query or \"STOP\" if you want to stop: ')\n",
        "  if 'STOP' not in qr:\n",
        "    result = find(qr, matrix, corpus)\n",
        "    print(*result[:20])\n",
        "  else:\n",
        "    check = False"
      ],
      "metadata": {
        "id": "YbVcWzXl2Mzi"
      },
      "execution_count": null,
      "outputs": []
    }
  ],
  "metadata": {
    "kernelspec": {
      "display_name": "Python 3",
      "language": "python",
      "name": "python3"
    },
    "language_info": {
      "codemirror_mode": {
        "name": "ipython",
        "version": 3
      },
      "file_extension": ".py",
      "mimetype": "text/x-python",
      "name": "python",
      "nbconvert_exporter": "python",
      "pygments_lexer": "ipython3",
      "version": "3.6.5"
    },
    "colab": {
      "provenance": []
    }
  },
  "nbformat": 4,
  "nbformat_minor": 0
}