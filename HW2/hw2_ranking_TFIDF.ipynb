{
  "cells": [
    {
      "cell_type": "markdown",
      "metadata": {
        "id": "Wb8_UI9nZjSg"
      },
      "source": [
        "# ДЗ 2  \n",
        "## Ранжирование: TF-IDF, матрица Document-Term, косинусная близость"
      ]
    },
    {
      "cell_type": "markdown",
      "metadata": {
        "id": "CFNUTb8mZjSq"
      },
      "source": [
        "### __Задача__:    \n",
        "\n",
        "Реализуйте поиск, где \n",
        "- в качестве метода векторизации документов корпуса - **TF-IDF**\n",
        "- формат хранения индекса - **матрица Document-Term**\n",
        "- метрика близости пар (запрос, документ) - **косинусная близость**\n",
        "- в качестве корпуса - **корпус Друзей из первого задания**\n",
        "\n",
        "\n",
        "Что должно быть в реализации:\n",
        "- функция индексации корпуса, на выходе которой посчитанная матрица Document-Term \n",
        "- функция индексации запроса, на выходе которой посчитанный вектор запроса\n",
        "- функция с реализацией подсчета близости запроса и документов корпуса, на выходе которой вектор, i-й элемент которого обозначает близость запроса с i-м документом корпуса\n",
        "- главная функция, объединяющая все это вместе; на входе - запрос, на выходе - отсортированные по убыванию имена документов коллекции\n",
        "\n",
        "\n",
        "**На что направлена эта задача:** \n",
        "Реализация от начала до конца механики поиска с использованием простых компонентов.\n"
      ]
    },
    {
      "cell_type": "markdown",
      "source": [
        "## Imports:"
      ],
      "metadata": {
        "id": "ux_ufYoSmL-Z"
      }
    },
    {
      "cell_type": "code",
      "source": [
        "! pip install pymorphy2"
      ],
      "metadata": {
        "colab": {
          "base_uri": "https://localhost:8080/"
        },
        "id": "SP8ZObgVmQgz",
        "outputId": "3d0ad989-2b09-4aa3-b7b6-2e5845759002"
      },
      "execution_count": 1,
      "outputs": [
        {
          "output_type": "stream",
          "name": "stdout",
          "text": [
            "Looking in indexes: https://pypi.org/simple, https://us-python.pkg.dev/colab-wheels/public/simple/\n",
            "Collecting pymorphy2\n",
            "  Downloading pymorphy2-0.9.1-py3-none-any.whl (55 kB)\n",
            "\u001b[K     |████████████████████████████████| 55 kB 3.2 MB/s \n",
            "\u001b[?25hCollecting pymorphy2-dicts-ru<3.0,>=2.4\n",
            "  Downloading pymorphy2_dicts_ru-2.4.417127.4579844-py2.py3-none-any.whl (8.2 MB)\n",
            "\u001b[K     |████████████████████████████████| 8.2 MB 12.0 MB/s \n",
            "\u001b[?25hCollecting dawg-python>=0.7.1\n",
            "  Downloading DAWG_Python-0.7.2-py2.py3-none-any.whl (11 kB)\n",
            "Collecting docopt>=0.6\n",
            "  Downloading docopt-0.6.2.tar.gz (25 kB)\n",
            "Building wheels for collected packages: docopt\n",
            "  Building wheel for docopt (setup.py) ... \u001b[?25l\u001b[?25hdone\n",
            "  Created wheel for docopt: filename=docopt-0.6.2-py2.py3-none-any.whl size=13723 sha256=3cc12f1658a5c5bb909531e9b09984e99de12edac6f723fdf205eb4ea854f3db\n",
            "  Stored in directory: /root/.cache/pip/wheels/72/b0/3f/1d95f96ff986c7dfffe46ce2be4062f38ebd04b506c77c81b9\n",
            "Successfully built docopt\n",
            "Installing collected packages: pymorphy2-dicts-ru, docopt, dawg-python, pymorphy2\n",
            "Successfully installed dawg-python-0.7.2 docopt-0.6.2 pymorphy2-0.9.1 pymorphy2-dicts-ru-2.4.417127.4579844\n"
          ]
        }
      ]
    },
    {
      "cell_type": "code",
      "source": [
        "from google.colab import drive\n",
        "drive.mount('/content/drive')"
      ],
      "metadata": {
        "colab": {
          "base_uri": "https://localhost:8080/"
        },
        "id": "IXV4w9GCq3fz",
        "outputId": "43bc13fb-163f-4f24-e11b-9854ca6764cc"
      },
      "execution_count": 12,
      "outputs": [
        {
          "output_type": "stream",
          "name": "stdout",
          "text": [
            "Mounted at /content/drive\n"
          ]
        }
      ]
    },
    {
      "cell_type": "code",
      "source": [
        "import os\n",
        "from pymorphy2 import MorphAnalyzer\n",
        "from string import punctuation\n",
        "import nltk\n",
        "from nltk.corpus import stopwords\n",
        "from sklearn.feature_extraction.text import TfidfVectorizer\n",
        "from sklearn.metrics.pairwise import cosine_similarity\n",
        "import numpy as np"
      ],
      "metadata": {
        "id": "7-iy81eXmLjW"
      },
      "execution_count": 7,
      "outputs": []
    },
    {
      "cell_type": "code",
      "source": [
        "nltk.download(\"stopwords\")\n",
        "stopwords = set(stopwords.words(\"russian\"))\n",
        "morph = MorphAnalyzer()\n",
        "vectorizer = TfidfVectorizer()"
      ],
      "metadata": {
        "colab": {
          "base_uri": "https://localhost:8080/"
        },
        "id": "dH_LpRYNmUXx",
        "outputId": "d6264a52-b3d9-4432-9bfd-c339c40cc0fd"
      },
      "execution_count": 15,
      "outputs": [
        {
          "output_type": "stream",
          "name": "stderr",
          "text": [
            "[nltk_data] Downloading package stopwords to /root/nltk_data...\n",
            "[nltk_data]   Package stopwords is already up-to-date!\n"
          ]
        }
      ]
    },
    {
      "cell_type": "markdown",
      "source": [
        "## Processing:"
      ],
      "metadata": {
        "id": "DxaMO72qq-e4"
      }
    },
    {
      "cell_type": "markdown",
      "source": [
        "get list of files in a given directory + get texts from them"
      ],
      "metadata": {
        "id": "z3su6FI6uXg_"
      }
    },
    {
      "cell_type": "code",
      "source": [
        "def get_files(path):\n",
        "    f_paths = list()\n",
        "    f_names = list()\n",
        "    texts = list()\n",
        "\n",
        "    for root, dirs, files in os.walk(path):\n",
        "        for name in files:\n",
        "            if name[0] != '.':\n",
        "                f_paths.append(os.path.join(root, name))\n",
        "                f_names.append(name)\n",
        "    \n",
        "    for file_path in f_paths:\n",
        "        with open(file_path, 'r', encoding='utf-8', errors='ignore') as f:\n",
        "          texts.append(f.read())\n",
        "\n",
        "    return texts, f_names"
      ],
      "metadata": {
        "id": "SRDgnFjamddS"
      },
      "execution_count": 4,
      "outputs": []
    },
    {
      "cell_type": "markdown",
      "source": [
        "preprocess texts "
      ],
      "metadata": {
        "id": "ee_ItV2Vuepc"
      }
    },
    {
      "cell_type": "code",
      "source": [
        "def preprocess(texts):\n",
        "    prep_texts = list()\n",
        "    for text in texts:\n",
        "      words = text.split()\n",
        "      lemmas = list()\n",
        "      for w in words:\n",
        "        w = w.strip(punctuation)\n",
        "        lemmas.append(morph.parse(w)[0].normal_form)\n",
        "      words = [w for w in words if w not in stopwords]\n",
        "      prep_texts.append(' '.join(words))\n",
        "    return prep_texts"
      ],
      "metadata": {
        "id": "uCIsXugJnCe-"
      },
      "execution_count": 5,
      "outputs": []
    },
    {
      "cell_type": "markdown",
      "source": [
        "get tf-idf "
      ],
      "metadata": {
        "id": "wiju2yqvuhcg"
      }
    },
    {
      "cell_type": "code",
      "source": [
        "def get_matrix(path):\n",
        "    texts, file_names = get_files(path)\n",
        "    corpus = preprocess(texts)\n",
        "    X = vectorizer.fit_transform(corpus)\n",
        "    return X, file_names"
      ],
      "metadata": {
        "id": "IFFXRujJoAAh"
      },
      "execution_count": 8,
      "outputs": []
    },
    {
      "cell_type": "markdown",
      "source": [
        "get vector of users query"
      ],
      "metadata": {
        "id": "V6Pgjq4fukR7"
      }
    },
    {
      "cell_type": "code",
      "source": [
        "def vec_query(users_q):\n",
        "    prep = preprocess([users_q])\n",
        "    return vectorizer.transform(prep)"
      ],
      "metadata": {
        "id": "OB51gRH5oMec"
      },
      "execution_count": 9,
      "outputs": []
    },
    {
      "cell_type": "markdown",
      "source": [
        "find cos similarity"
      ],
      "metadata": {
        "id": "dnsgKsiSun4Z"
      }
    },
    {
      "cell_type": "code",
      "source": [
        "def get_cos_sim(x, vector):\n",
        "    simularity = cosine_similarity(x, vector)\n",
        "    return simularity.reshape(-1)"
      ],
      "metadata": {
        "id": "lL-DueQOoN5g"
      },
      "execution_count": 10,
      "outputs": []
    },
    {
      "cell_type": "code",
      "source": [
        "# Testing on the corpus from hw1:\n",
        "path = '/content/drive/MyDrive/infosearch22/hw1/friends-data'\n",
        "X, file_names = get_matrix(path)\n",
        "check = True\n",
        "while check == True:\n",
        "    query = input(\"You may input your query or type 'STOP' to stop: \")\n",
        "    if \"STOP\" not in query:\n",
        "        files_sorted = []\n",
        "        vec_q = vec_query(query)\n",
        "        cos_li = get_cos_sim(X, vec_q)\n",
        "        id_sort = np.argsort(cos_li)[::-1]\n",
        "        id_sort = id_sort.tolist()\n",
        "        for i in range(len(file_names)):\n",
        "            files_sorted.append(file_names[id_sort[i]])\n",
        "        print(\"Results in descending order: \\n{}\".format('\\n'.join(files_sorted)))\n",
        "    else:\n",
        "      check = False"
      ],
      "metadata": {
        "colab": {
          "base_uri": "https://localhost:8080/"
        },
        "id": "kQXVZZhApDnM",
        "outputId": "a58ad9ae-6516-48cb-f1e9-45defbf23b51"
      },
      "execution_count": 16,
      "outputs": [
        {
          "name": "stdout",
          "output_type": "stream",
          "text": [
            "You may input your query or type 'STOP' to stop: Я очень зла\n",
            "Results in descending order: Friends - 4x01 - The One With The Jellyfish.ru.txt\n",
            "Friends - 4x21 - The One With The Invitations.ru.txt\n",
            "Friends - 5x04 - The One Where Phoebe Hates PBS.ru.txt\n",
            "Friends - 5x06 - The One With The Yeti.ru.txt\n",
            "Friends - 1x13 - The One With The Boobies.ru.txt\n",
            "Friends - 6x23 - The One With The Ring.ru.txt\n",
            "Friends - 2x07 - The One Where Ross Finds Out.ru.txt\n",
            "Friends - 4x07 - The One Where Chandler Crosses The Line.ru.txt\n",
            "Friends - 3x16 - The One With The Morning After (2).ru.txt\n",
            "Friends - 5x14 - The One Where Everybody Finds Out.ru.txt\n",
            "Friends - 3x17 - The One Without The Ski Trip.ru.txt\n",
            "Friends - 4x08 - The One With Chandler In A Box.ru.txt\n",
            "Friends - 4x18 - The One With Rachel's New Dress.ru.txt\n",
            "Friends - 4x16 - The One With The Fake Party.ru.txt\n",
            "Friends - 6x19 - The One With Joey's Fridge.ru.txt\n",
            "Friends - 3x05 - The One With Frank Jr..ru.txt\n",
            "Friends - 4x10 - The One With The Girl From Poughkeepsie.ru.txt\n",
            "Friends - 5x17 - The One With Rachel's Inadvertent Kiss.ru.txt\n",
            "Friends - 5x08 - The One With The Thanksgiving Flashbacks.ru.txt\n",
            "Friends - 5x03 - The One Hundredth.ru.txt\n",
            "Friends - 4x09 - The One Where They're Going To Party!.ru.txt\n",
            "Friends - 6x08 - The One With Ross's Teeth.ru.txt\n",
            "Friends - 4x03 - The One With The 'Cuffs.ru.txt\n",
            "Friends - 3x15 - The One Where Ross And Rachel Take A Break (1).ru.txt\n",
            "Friends - 5x15 - The One With The Girl Who Hits Joey.ru.txt\n",
            "Friends - 7x06 - The One With The Nap Partners.ru.txt\n",
            "Friends - 5x21 - The One With The Ball.ru.txt\n",
            "Friends - 5x16 - The One With The Cop.ru.txt\n",
            "Friends - 6x03 - The One With Ross's Denial.ru.txt\n",
            "Friends - 2x09 - The One With Phoebe's Dad.ru.txt\n",
            "Friends - 6x18 - The One Where Ross Dates A Student.ru.txt\n",
            "Friends - 4x14 - The One With Joey's Dirty Day.ru.txt\n",
            "Friends - 5x09 - The One With Ross's Sandwich.ru.txt\n",
            "Friends - 6x11 - The One With The Apothecary Table.ru.txt\n",
            "Friends - 3x10 - The One Where Rachel Quits.ru.txt\n",
            "Friends - 4x20 - The One With The Wedding Dresses.ru.txt\n",
            "Friends - 4x01 - The One With The Jellyfish.Tv.ru.txt\n",
            "Friends - 7x04 - The One With Rachel's Assistant.ru.txt\n",
            "Friends - 5x10 - The One With The Inappropriate Sister.ru.txt\n",
            "Friends - 5x23-24 - The One In Vegas (1).ru.txt\n",
            "Friends - 4x06 - The One With The Dirty Girl.ru.txt\n",
            "Friends - 5x19 - The One Where Ross Can't Flirt.ru.txt\n",
            "Friends - 7x09 - The One With All The Candy.ru.txt\n",
            "Friends - 3x11 - The One Where Chandler Can't Remember Which Sister.ru.txt\n",
            "Friends - 4x02 - The One With The Cat.Tv.ru.txt\n",
            "Friends - 4x19 - The One With All The Haste.ru.txt\n",
            "Friends - 7x15 - The One With Joey's New Brain.ru.txt\n",
            "Friends - 2x24 - The One With Barry And Mindy's Wedding.ru.txt\n",
            "Friends - 5x13 - The One With Joey's Bag.ru.txt\n",
            "Friends - 3x14 - The One With Phoebe's Ex-Partner.ru.txt\n",
            "Friends - 2x08 - The One With The List.ru.txt\n",
            "Friends - 7x11 - The One With All The Cheesecakes.ru.txt\n",
            "Friends - 5x22 - The One With Joey's Big Break.ru.txt\n",
            "Friends - 4x05 - The One With Joey's New Girlfriend.ru.txt\n",
            "Friends - 4x04 - The One With The Ballroom Dancing.ru.txt\n",
            "Friends - 7x07 - The One With Ross's Library Book.ru.txt\n",
            "Friends - 5x18 - The One Where Rachel Smokes.ru.txt\n",
            "Friends - 5x12 - The One With Chandler's Work Laugh.ru.txt\n",
            "Friends - 1x18 - The One With All The Poker.ru.txt\n",
            "Friends - 2x18 - The One Where Dr. Ramoray Dies.ru.txt\n",
            "Friends - 7x05 - The One With The Engagement Picture.ru.txt\n",
            "Friends - 3x03 - The One With The Jam.ru.txt\n",
            "Friends - 6x10 - The One With The Routine.ru.txt\n",
            "Friends - 4x13 - The One With Rachel's Crush.ru.txt\n",
            "Friends - 3x20 - The One With The Dollhouse.ru.txt\n",
            "Friends - 5x01 - The One After Ross Says Rachel.ru.txt\n",
            "Friends - 2x21 - The One With The Bullies.ru.txt\n",
            "Friends - 7x10 - The One With The Holiday Armadillo.ru.txt\n",
            "Friends - 7x20 - The One With Rachel's Big Kiss.ru.txt\n",
            "Friends - 6x06 - The One On The Last Night.ru.txt\n",
            "Friends - 1x09 - The One Where Underdog Gets Away.ru.txt\n",
            "Friends - 1x07 - The One With The Blackout.ru.txt\n",
            "Friends - 2x20 - The One Where Old Yeller Dies.NurlanB.ru.txt\n",
            "Friends - 2x12 - The One After The Super Bowl (1).ru.txt\n",
            "Friends - 6x24 - The One With The Proposal (1).ru.txt\n",
            "Friends - 3x01 - The One With The Princess Leia Fantasy.ru.txt\n",
            "Friends - 2x14 - The One With The Prom Video.ru.txt\n",
            "Friends - 3x19 - The One With The Tiny T-Shirt.ru.txt\n",
            "Friends - 6x04 - The One Where Joey Loses His Insurance.ru.txt\n",
            "Friends - 1x15 - The One With The Stoned Guy.ru.txt\n",
            "Friends - 1x16 - The One With Two Parts (1).ru.txt\n",
            "Friends - 3x02 - The One Where No One's Ready.ru.txt\n",
            "Friends - 7x08 - The One Where Chandler Doesn't Like Dogs.ru.txt\n",
            "Friends - 6x20 - The One With Mac And C.H.E.E.S.E..ru.txt\n",
            "Friends - 6x17 - The One With Unagi.ru.txt\n",
            "Friends - 3x12 - The One With All The Jealousy.ru.txt\n",
            "Friends - 2x22 - The One With The Two Parties.ru.txt\n",
            "Friends - 1x19 - The One Where The Monkey Gets Away.ru.txt\n",
            "Friends - 6x22 - The One Where Paul's The Man.ru.txt\n",
            "Friends - 3x08 - The One With The Giant Poking Device.ru.txt\n",
            "Friends - 3x18 - The One With The Hypnosis Tape.ru.txt\n",
            "Friends - 3x07 - The One With The Race Car Bed.ru.txt\n",
            "Friends - 6x21 - The One Where Ross Meets Elizabeth's Dad.ru.txt\n",
            "Friends - 6x09 - The One Where Ross Got High.ru.txt\n",
            "Friends - 3x04 - The One With The Metaphorical Tunnel.ru.txt\n",
            "Friends - 1x11 - The One With Mrs. Bing.ru.txt\n",
            "Friends - 1x17 - The One With Two Parts (2).ru.txt\n",
            "Friends - 4x11 - The One With Phoebe's Uterus.ru.txt\n",
            "Friends - 5x11 - The One With All The Resolutions.ru.txt\n",
            "Friends - 1x01 - The One Where Monica Gets A Roommate.ru.txt\n",
            "Friends - 2x01 - The One With Ross's New Girlfriend.ru.txt\n",
            "Friends - 7x01 - The One With Monica's Thunder.ru.txt\n",
            "Friends - 2x10 - The One With Russ.ru.txt\n",
            "Friends - 5x02 - The One With All The Kissing.ru.txt\n",
            "Friends - 1x20 - The One With The Evil Orthodontist.ru.txt\n",
            "Friends - 6x02 - The One Where Ross Hugs Rachel.ru.txt\n",
            "Friends - 6x14 - The One Where Chandler Can't Cry (2).ru.txt\n",
            "Friends - 7x03 - The One With Phoebe's Cookies.ru.txt\n",
            "Friends - 7x18 - The One With Joey's Award.ru.txt\n",
            "Friends - 2x15 - The One Where Ross And Rachel...You Know.ru.txt\n",
            "Friends - 6x16-17 - The One That Could Have Been (2).ru.txt\n",
            "Friends - 1x02 - The One With The Sonogram At The End.ru.txt\n",
            "Friends - 7x13 - The One Where Rosita Dies.ru.txt\n",
            "Friends - 2x02 - The One With The Breast Milk.ru.txt\n",
            "Friends - 4x23-24 - The One With Ross's Wedding (1).ru.txt\n",
            "Friends - 7x02 - The One With Rachel's Book.ru.txt\n",
            "Friends - 5x24-25 - The One In Vegas (2).ru.txt\n",
            "Friends - 7x21 - The One With The Vows.ru.txt\n",
            "Friends - 4x02 - The One With The Cat.ru.txt\n",
            "Friends - 1x14 - The One With The Candy Hearts.ru.txt\n",
            "Friends - 4x24-25 - The One With Ross's Wedding (2).ru.txt\n",
            "Friends - 3x13 - The One Where Monica And Richard Are Just Friends.ru.txt\n",
            "Friends - 1x03 - The One With The Thumb.ru.txt\n",
            "Friends - 2x17 - The One Where Eddie Moves In.ru.txt\n",
            "Friends - 3x21 - The One With A Chick And A Duck.ru.txt\n",
            "Friends - 2x06 - The One With The Baby On The Bus.ru.txt\n",
            "Friends - 2x05 - The One With Five Steaks And An Eggplant.ru.txt\n",
            "Friends - 1x10 - The One With The Monkey.ru.txt\n",
            "Friends - 6x05 - The One With Joey's Porsche.ru.txt\n",
            "Friends - 3x06 - The One With The Flashback.ru.txt\n",
            "Friends - 2x16 - The One Where Joey Moves Out.ru.txt\n",
            "Friends - 6x01 - The One After Vegas.ru.txt\n",
            "Friends - 6x07 - The One Where Phoebe Runs.ru.txt\n",
            "Friends - 5x05 - The One With The Kips.ru.txt\n",
            "Friends - 5x07 - The One Where Ross Moves In.ru.txt\n",
            "Friends - 4x17 - The One With The Free Porn.ru.txt\n",
            "Friends - 1x06 - The One With The Butt.ru.txt\n",
            "Friends - 4x15 - The One With All The Rugby.ru.txt\n",
            "Friends - 1x04 - The One With George Stephanopoulos.ru.txt\n",
            "Friends - 7x16 - The One With The Truth About London.ru.txt\n",
            "Friends - 6x12 - The One With The Joke.ru.txt\n",
            "Friends - 1x05 - The One With The East German Laundry Detergent.ru.txt\n",
            "Friends - 3x09 - The One With The Football.ru.txt\n",
            "Friends - 7x24-25 - The One With Chandler And Monica's Wedding (2).ru.txt\n",
            "Friends - 1x08 - The One Where Nana Dies Twice.ru.txt\n",
            "Friends - 6x25-26 - The One With The Proposal (2).ru.txt\n",
            "Friends - 7x22 - The One With Chandler's Dad.ru.txt\n",
            "Friends - 2x11 - The One With The Lesbian Wedding.ru.txt\n",
            "Friends - 7x23 - The One With Chandler And Monica's Wedding (1).ru.txt\n",
            "Friends - 2x23 - The One With The Chicken Pox.ru.txt\n",
            "Friends - 2x19 - The One Where Eddie Won't Go.ru.txt\n",
            "Friends - 7x12 - The One Where They're Up All Night.ru.txt\n",
            "Friends - 4x12 - The One With The Embryos.ru.txt\n",
            "Friends - 5x20 - The One With The Ride Along.ru.txt\n",
            "Friends - 2x01 - The One With Ross's New Girlfriend.DVDRip.ru.txt\n",
            "Friends - 4x22 - The One With The Worst Best Man Ever.ru.txt\n",
            "Friends - 7x19 - The One With Ross And Monica's Cousin.ru.txt\n",
            "Friends - 1x12 - The One With The Dozen Lasagnas.ru.txt\n",
            "Friends - 2x04 - The One With Phoebe's Husband.ru.txt\n",
            "Friends - 7x14 - The One Where They All Turn Thirty.ru.txt\n",
            "Friends - 7x17 - The One With The Cheap Wedding Dress.ru.txt\n",
            "Friends - 2x13 - The One After The Super Bowl (2).ru.txt\n",
            "Friends - 6x13 - The One With Rachel's Sister (1).ru.txt\n",
            "Friends - 6x15 - The One That Could Have Been (1).ru.txt\n",
            "Friends - 2x03 - The One Where Heckles Dies.ru.txt\n",
            "You may input your query or type 'STOP' to stop: STOP\n"
          ]
        }
      ]
    }
  ],
  "metadata": {
    "kernelspec": {
      "display_name": "Python 3",
      "language": "python",
      "name": "python3"
    },
    "language_info": {
      "codemirror_mode": {
        "name": "ipython",
        "version": 3
      },
      "file_extension": ".py",
      "mimetype": "text/x-python",
      "name": "python",
      "nbconvert_exporter": "python",
      "pygments_lexer": "ipython3",
      "version": "3.7.6"
    },
    "colab": {
      "provenance": []
    }
  },
  "nbformat": 4,
  "nbformat_minor": 0
}